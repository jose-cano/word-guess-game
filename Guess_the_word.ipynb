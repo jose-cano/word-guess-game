{
  "nbformat": 4,
  "nbformat_minor": 0,
  "metadata": {
    "colab": {
      "name": "Guess-the-word.ipynb",
      "provenance": [],
      "collapsed_sections": [],
      "authorship_tag": "ABX9TyM4mEO5El5o85RfdMJ2gvs1",
      "include_colab_link": true
    },
    "kernelspec": {
      "name": "python3",
      "display_name": "Python 3"
    },
    "language_info": {
      "name": "python"
    }
  },
  "cells": [
    {
      "cell_type": "markdown",
      "metadata": {
        "id": "view-in-github",
        "colab_type": "text"
      },
      "source": [
        "<a href=\"https://colab.research.google.com/github/jose-cano/word-guess-game/blob/main/Guess_the_word.ipynb\" target=\"_parent\"><img src=\"https://colab.research.google.com/assets/colab-badge.svg\" alt=\"Open In Colab\"/></a>"
      ]
    },
    {
      "cell_type": "markdown",
      "metadata": {
        "id": "6Ydlz5eEuIkI"
      },
      "source": [
        "# Word guessing game\n",
        "Guess the word within 6 attempts.\n",
        "\n",
        "Penalty for a wrong vowel guess is -2\n",
        "\n",
        "Penalty for a wrong consotant guess is -1"
      ]
    },
    {
      "cell_type": "code",
      "metadata": {
        "id": "aDJsNOePuEux",
        "cellView": "form"
      },
      "source": [
        "#@title Run this cell to set up game\n",
        "import random\n",
        "import string\n",
        "\n",
        "def get_available_letters(letters_guessed):\n",
        "\n",
        "  avails = list(string.ascii_lowercase)\n",
        "  avail = [c if c not in letters_guessed else \"_ \" for x, c in enumerate(string.ascii_lowercase)]\n",
        "  available = ''.join([str(letter) for letter in avail])\n",
        "  return available\n",
        "\n",
        "\n",
        "def get_guessed_word(secret_word, letters_guessed):\n",
        "  game_letters = [c if c in letters_guessed else \"_ \" for x, c in enumerate(secret_word)]\n",
        "  game = ''.join([str(letter) for letter in game_letters])\n",
        "  return game\n",
        "\n",
        "\n",
        "def is_word_guessed(secret_word, letters_guessed):\n",
        "  return sorted([x for x in letters_guessed if x in secret_word])\\\n",
        "  == sorted(set([*secret_word]))\n",
        "\n",
        "def hangman(secret_word):\n",
        "\n",
        "  no_unique_letters = len(set(list(secret_word)))\n",
        "\n",
        "  no_of_guesses = 6\n",
        "  letters_guessed = []\n",
        "  prev_guesses = []\n",
        "  print(f'Welcome to the word guessing game! \\nI am thinking of a word that is {len(secret_word)} letters long.\\nCan you guess it?')\n",
        "  print(\"_\"*15)\n",
        "  \n",
        "  while not is_word_guessed(secret_word, letters_guessed):\n",
        "\n",
        "    \n",
        "    print(f\"You have {no_of_guesses} guesses left\")\n",
        "    print(f'Available letters: {get_available_letters(letters_guessed)}')\n",
        "    letter = input(\"Enter a letter: \")\n",
        "    while not letter:\n",
        "      letter = input(\"Please input a letter: \")\n",
        "\n",
        "    if letter in letters_guessed:\n",
        "      print(\"You already guessed that!\")\n",
        "    else:\n",
        "      if letter not in letters_guessed:\n",
        "        if letter not in secret_word:\n",
        "          if letter in [\"a\", \"e\", \"i\", \"o\", \"u\"]:\n",
        "            no_of_guesses -= 2\n",
        "          else:\n",
        "            no_of_guesses -= 1\n",
        "          print(\"Wrong guess!\")\n",
        "      letters_guessed.append(letter)\n",
        "    \n",
        "    if letter in secret_word:\n",
        "      print(\"Good guess!\")\n",
        "\n",
        "    if no_of_guesses <= 0:\n",
        "      print(\"You lost!\")\n",
        "      print(f\"The word you were trying to guess was {secret_word}\")\n",
        "      break\n",
        "      \n",
        "\n",
        "    print(get_guessed_word(secret_word, letters_guessed))\n",
        "    print(\"_\"*15)\n",
        "  else:\n",
        "    print(\"You won!\")\n",
        "    print(f'Total score {no_unique_letters * no_of_guesses}')\n",
        "\n",
        "words = ['army', 'beautiful', 'biscuit', 'clown', 'actually', 'beside', 'between','fisherman','eye','five','fur','imposter', 'problem' ,'revenge' ,'fearsome' ,'circle' ,'district','trade','quota','stop','depressed','disorder','dentist']"
      ],
      "execution_count": 3,
      "outputs": []
    },
    {
      "cell_type": "code",
      "metadata": {
        "colab": {
          "base_uri": "https://localhost:8080/"
        },
        "cellView": "form",
        "id": "4HWatu7xxOno",
        "outputId": "7340d5c3-efc9-4317-9b03-36e09473e992"
      },
      "source": [
        "#@title Run this cell to start game\n",
        "random_word = random.choice(words)\n",
        "hangman(random_word)"
      ],
      "execution_count": 9,
      "outputs": [
        {
          "output_type": "stream",
          "name": "stdout",
          "text": [
            "Welcome to the word guessing game! \n",
            "I am thinking of a word that is 5 letters long.\n",
            "Can you guess it?\n",
            "_______________\n",
            "You have 6 guesses left\n",
            "Available letters: abcdefghijklmnopqrstuvwxyz\n",
            "Enter a letter: a\n",
            "Good guess!\n",
            "_ _ _ _ a\n",
            "_______________\n",
            "You have 6 guesses left\n",
            "Available letters: _ bcdefghijklmnopqrstuvwxyz\n",
            "Enter a letter: i\n",
            "Wrong guess!\n",
            "_ _ _ _ a\n",
            "_______________\n",
            "You have 4 guesses left\n",
            "Available letters: _ bcdefgh_ jklmnopqrstuvwxyz\n",
            "Enter a letter: o\n",
            "Good guess!\n",
            "_ _ o_ a\n",
            "_______________\n",
            "You have 4 guesses left\n",
            "Available letters: _ bcdefgh_ jklmn_ pqrstuvwxyz\n",
            "Enter a letter: r\n",
            "Wrong guess!\n",
            "_ _ o_ a\n",
            "_______________\n",
            "You have 3 guesses left\n",
            "Available letters: _ bcdefgh_ jklmn_ pq_ stuvwxyz\n",
            "Enter a letter: m\n",
            "Wrong guess!\n",
            "_ _ o_ a\n",
            "_______________\n",
            "You have 2 guesses left\n",
            "Available letters: _ bcdefgh_ jkl_ n_ pq_ stuvwxyz\n",
            "Enter a letter: t\n",
            "Good guess!\n",
            "_ _ ota\n",
            "_______________\n",
            "You have 2 guesses left\n",
            "Available letters: _ bcdefgh_ jkl_ n_ pq_ s_ uvwxyz\n",
            "Enter a letter: q\n",
            "Good guess!\n",
            "q_ ota\n",
            "_______________\n",
            "You have 2 guesses left\n",
            "Available letters: _ bcdefgh_ jkl_ n_ p_ _ s_ uvwxyz\n",
            "Enter a letter: u\n",
            "Good guess!\n",
            "quota\n",
            "_______________\n",
            "You won!\n",
            "Total score 10\n"
          ]
        }
      ]
    }
  ]
}